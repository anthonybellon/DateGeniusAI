{
 "cells": [
  {
   "cell_type": "code",
   "execution_count": 1,
   "id": "df0a6a37-1d43-466c-ae17-ccf14a266f35",
   "metadata": {},
   "outputs": [
    {
     "name": "stderr",
     "output_type": "stream",
     "text": [
      "/var/folders/7v/6mwzjf_55kb74qwkksjnfy780000gn/T/ipykernel_42179/12027983.py:9: MarkupResemblesLocatorWarning: The input looks more like a URL than markup. You may want to use an HTTP client like requests to get the document behind the URL, and feed that document to Beautiful Soup.\n",
      "  soup = BeautifulSoup(text, \"html.parser\")\n",
      "/var/folders/7v/6mwzjf_55kb74qwkksjnfy780000gn/T/ipykernel_42179/12027983.py:9: MarkupResemblesLocatorWarning: The input looks more like a filename than markup. You may want to open this file and pass the filehandle into Beautiful Soup.\n",
      "  soup = BeautifulSoup(text, \"html.parser\")\n"
     ]
    },
    {
     "name": "stdout",
     "output_type": "stream",
     "text": [
      "Excel file has been cleaned and saved to data/cleaned_xlsx_data.json\n",
      "Formatted events have been saved to data/formatted_xls_events.json\n"
     ]
    }
   ],
   "source": [
    "import pandas as pd\n",
    "import json\n",
    "import re\n",
    "from bs4 import BeautifulSoup\n",
    "\n",
    "french_chars = \"àâäçéèêëîïôùûüÿÀÂÄÇÉÈÊËÎÏÔÙÛÜŸ.:-/+’',\"\n",
    "\n",
    "def remove_html_tags(text):\n",
    "    soup = BeautifulSoup(text, \"html.parser\")\n",
    "    return soup.get_text(separator=\" \")\n",
    "\n",
    "def find_and_replace_ambiguous_unicode(text, replacement=\"\"):\n",
    "    text = text.replace('\\n', ' ').replace('\\t', ' ')\n",
    "    non_ascii_pattern = re.compile(r'[^a-zA-Z0-9\\s' + re.escape(french_chars) + r']')\n",
    "    return non_ascii_pattern.sub(replacement, text)\n",
    "\n",
    "def clean_data(data, replacement=\"\"):\n",
    "    cleaned_data = []\n",
    "    for item in data:\n",
    "        cleaned_item = {k: find_and_replace_ambiguous_unicode(remove_html_tags(str(v)), replacement) for k, v in item.items()}\n",
    "        cleaned_data.append(cleaned_item)\n",
    "    return cleaned_data\n",
    "\n",
    "def format_events_for_prompt(events):\n",
    "    formatted_events = [\n",
    "        {\n",
    "            \"ID\": event.get('ID', ''),\n",
    "            \"URL\": event.get('URL', ''),\n",
    "            \"Titre\": event.get('Titre', ''),\n",
    "            \"Description\": event.get('Description', ''),\n",
    "            \"Date de début\": event.get('Date de début', ''),\n",
    "            \"Date de fin\": event.get('Date de fin', ''),\n",
    "            \"Nom du lieu\": event.get('Nom du lieu', ''),\n",
    "            \"Adresse du lieu\": event.get('Adresse du lieu', ''),\n",
    "            \"Code postal\": event.get('Code postal', ''),\n",
    "            \"Mots clés\": event.get('Mots clés', ''),\n",
    "            \"Ville\": event.get('Ville', ''),\n",
    "            \"Coordonnées géographiques\": event.get('Coordonnées géographiques', ''),\n",
    "        }\n",
    "        for event in events\n",
    "    ]\n",
    "    return formatted_events\n",
    "\n",
    "\n",
    "def convert_and_clean_excel(input_file_path, output_file_path, formatted_output_file_path):\n",
    "    df = pd.read_excel(input_file_path)\n",
    "    data = df.to_dict(orient='records')\n",
    "    cleaned_data = clean_data(data)\n",
    "\n",
    "    with open(output_file_path, 'w', encoding='utf-8') as json_file:\n",
    "        json.dump(cleaned_data, json_file, ensure_ascii=False, indent=2)\n",
    "\n",
    "    print(f\"Excel file has been cleaned and saved to {output_file_path}\")\n",
    "    formatted_events = format_events_for_prompt(cleaned_data)\n",
    "\n",
    "    with open(formatted_output_file_path, 'w', encoding='utf-8') as json_file:\n",
    "        json.dump(formatted_events, json_file, ensure_ascii=False, indent=2)\n",
    "\n",
    "    print(f\"Formatted events have been saved to {formatted_output_file_path}\")\n",
    "\n",
    "input_file_path = 'data/que-faire-a-paris-2.xlsx'\n",
    "cleaned_output_file_path = 'data/cleaned_xlsx_data.json'\n",
    "formatted_output_file_path = 'data/formatted_xls_events.json'\n",
    "convert_and_clean_excel(input_file_path, cleaned_output_file_path, formatted_output_file_path)\n"
   ]
  },
  {
   "cell_type": "code",
   "execution_count": 2,
   "id": "cd7e0226-864d-43cf-843d-2adf0c6067f1",
   "metadata": {},
   "outputs": [],
   "source": [
    "import json\n",
    "import re\n",
    "import os\n",
    "from sklearn.feature_extraction.text import TfidfVectorizer\n",
    "from sklearn.metrics.pairwise import cosine_similarity\n",
    "from langchain.chains import LLMChain\n",
    "from langchain.prompts import PromptTemplate\n",
    "from langchain.llms import OpenAI\n",
    "from dotenv import load_dotenv"
   ]
  },
  {
   "cell_type": "code",
   "execution_count": 3,
   "id": "769b4de5-f1bd-4eb8-807b-0ade4f06db02",
   "metadata": {},
   "outputs": [
    {
     "name": "stderr",
     "output_type": "stream",
     "text": [
      "/Users/anthonybellon/Comp_Documents/Personal Projects/DateGeniusAi/DateGeniusAI/venv/lib/python3.9/site-packages/langchain_core/_api/deprecation.py:139: LangChainDeprecationWarning: The class `OpenAI` was deprecated in LangChain 0.0.10 and will be removed in 0.3.0. An updated version of the class exists in the langchain-openai package and should be used instead. To use it run `pip install -U langchain-openai` and import as `from langchain_openai import OpenAI`.\n",
      "  warn_deprecated(\n"
     ]
    }
   ],
   "source": [
    "load_dotenv()\n",
    "llm = OpenAI(api_key=os.environ.get(\"OPENAI_API_KEY\"))"
   ]
  },
  {
   "cell_type": "code",
   "execution_count": 6,
   "id": "772024f4-64d3-4faa-9874-41cf1114c84d",
   "metadata": {},
   "outputs": [
    {
     "name": "stderr",
     "output_type": "stream",
     "text": [
      "/Users/anthonybellon/Comp_Documents/Personal Projects/DateGeniusAi/DateGeniusAI/venv/lib/python3.9/site-packages/langchain_core/_api/deprecation.py:139: LangChainDeprecationWarning: The method `BaseLLM.__call__` was deprecated in langchain-core 0.1.7 and will be removed in 0.3.0. Use invoke instead.\n",
      "  warn_deprecated(\n"
     ]
    },
    {
     "name": "stdout",
     "output_type": "stream",
     "text": [
      "Suggested Event: \n",
      "    ID: 56259, Title: Paris Sportives : activités football et marche sportive par LES ENFANTS DE LA GOUTTE D'OR, Date: 2024-01-01T00:00:00+00:00 to 2024-12-31T23:59:59+00:00, Location: Square Léon, 20 Rue des Gardes, 75018, Paris\n"
     ]
    }
   ],
   "source": [
    "def clean_html_tags(text):\n",
    "    clean = re.compile('<.*?>')\n",
    "    return re.sub(clean, ' ', text) if isinstance(text, str) else text\n",
    "\n",
    "def prefilter_events(events, query):\n",
    "    query_lower = query.lower()\n",
    "    filtered_events = [\n",
    "        event for event in events\n",
    "        if any(keyword.lower() in query_lower for keyword in event.get('Mots clés', '').split(','))\n",
    "        or any(keyword.lower() in query_lower for keyword in event.get('Titre', '').split())\n",
    "        or any(keyword.lower() in query_lower for keyword in event.get('Description', '').split())\n",
    "    ]\n",
    "    return filtered_events if filtered_events else events \n",
    "\n",
    "def preprocess_events(events):\n",
    "    for event in events:\n",
    "        event['combined_text'] = f\"{event['Titre']} {event['Description']} {event.get('Mots clés', '')}\"\n",
    "        event['combined_text'] = clean_html_tags(event['combined_text'])\n",
    "    texts = [event['combined_text'] for event in events]\n",
    "    vectorizer = TfidfVectorizer()\n",
    "    tfidf_matrix = vectorizer.fit_transform(texts)\n",
    "    return vectorizer, tfidf_matrix, events\n",
    "\n",
    "def get_top_relevant_events(query, vectorizer, tfidf_matrix, events, top_n=20):\n",
    "    query_vec = vectorizer.transform([query])\n",
    "    cosine_similarities = cosine_similarity(query_vec, tfidf_matrix).flatten()\n",
    "    relevant_indices = cosine_similarities.argsort()[-top_n:][::-1]\n",
    "    return [events[idx] for idx in relevant_indices]\n",
    "\n",
    "def generate_prompt(query, suggested_events):\n",
    "    events_text = \"\\n\".join([\n",
    "        f\"ID: {event['ID']}, Title: {event['Titre']}, Date: {event['Date de début']} to {event['Date de fin']}, Location: {event['Nom du lieu']}, {event['Adresse du lieu']}, {event['Code postal']}, {event['Ville']}\"\n",
    "        for event in suggested_events\n",
    "    ])\n",
    "    prompt = f\"\"\"\n",
    "    You are an assistant that helps people find events in Paris. Based on the query below, suggest the best matching event from the list.\n",
    "    \n",
    "    Query: {query}\n",
    "    \n",
    "    Events:\n",
    "    {events_text}\n",
    "\n",
    "    Suggested Event:\n",
    "    \"\"\"\n",
    "    return prompt\n",
    "\n",
    "def find_event(query, events, vectorizer, tfidf_matrix, top_n=20):\n",
    "    relevant_events = get_top_relevant_events(query, vectorizer, tfidf_matrix, events, top_n)\n",
    "    prompt = generate_prompt(query, relevant_events)\n",
    "    \n",
    "    # Use LangChain to generate the response\n",
    "    prompt_template = PromptTemplate(input_variables=[\"prompt\"], template=\"{prompt}\")\n",
    "    formatted_prompt = prompt_template.format(prompt=prompt)\n",
    "    response = llm(formatted_prompt)\n",
    "    \n",
    "    return response, relevant_events\n",
    "\n",
    "def load_formatted_events(file_path):\n",
    "    with open(file_path, 'r', encoding='utf-8') as file:\n",
    "        return json.load(file)\n",
    "\n",
    "def save_filtered_events(filtered_events, file_path):\n",
    "    with open(file_path, 'w', encoding='utf-8') as file:\n",
    "        json.dump(filtered_events, file, ensure_ascii=False, indent=2)\n",
    "\n",
    "def find_and_generate_prompt(user_query, events, top_n=20):\n",
    "    filtered_events = prefilter_events(events, user_query)\n",
    "    vectorizer, tfidf_matrix, processed_events = preprocess_events(filtered_events)\n",
    "    suggested_event, relevant_events = find_event(user_query, processed_events, vectorizer, tfidf_matrix, top_n)\n",
    "    \n",
    "    save_filtered_events(relevant_events, 'filtered_events.json')\n",
    "    \n",
    "    return suggested_event\n",
    "\n",
    "formatted_events_file_path = 'data/formatted_xls_events.json'\n",
    "formatted_events = load_formatted_events(formatted_events_file_path)\n",
    "\n",
    "# Example usage\n",
    "user_query = \"J'aimerai bien voir un truque sportive\"\n",
    "suggested_event = find_and_generate_prompt(user_query, formatted_events)\n",
    "print(\"Suggested Event:\", suggested_event)"
   ]
  },
  {
   "cell_type": "code",
   "execution_count": 7,
   "id": "34f8a800-b8df-48d1-9f57-e3d08ec706b9",
   "metadata": {},
   "outputs": [
    {
     "name": "stdout",
     "output_type": "stream",
     "text": [
      " * Serving Flask app '__main__'\n",
      " * Debug mode: off\n"
     ]
    },
    {
     "name": "stderr",
     "output_type": "stream",
     "text": [
      "\u001b[31m\u001b[1mWARNING: This is a development server. Do not use it in a production deployment. Use a production WSGI server instead.\u001b[0m\n",
      " * Running on http://127.0.0.1:5000\n",
      "\u001b[33mPress CTRL+C to quit\u001b[0m\n"
     ]
    }
   ],
   "source": [
    "# Optional: Integrate with a Flask application for deployment\n",
    "\n",
    "from flask import Flask, request, jsonify\n",
    "\n",
    "app = Flask(__name__)\n",
    "\n",
    "@app.route('/chatbot', methods=['POST'])\n",
    "def chatbot():\n",
    "    user_input = request.json.get('message')\n",
    "    response = generate_response(user_input)\n",
    "    return jsonify({'response': response})\n",
    "\n",
    "if __name__ == '__main__':\n",
    "    app.run(port=5000)"
   ]
  },
  {
   "cell_type": "code",
   "execution_count": null,
   "id": "0207ad98-a51e-49ed-8198-f8391bfd6450",
   "metadata": {},
   "outputs": [],
   "source": []
  }
 ],
 "metadata": {
  "kernelspec": {
   "display_name": "Python 3 (ipykernel)",
   "language": "python",
   "name": "python3"
  },
  "language_info": {
   "codemirror_mode": {
    "name": "ipython",
    "version": 3
   },
   "file_extension": ".py",
   "mimetype": "text/x-python",
   "name": "python",
   "nbconvert_exporter": "python",
   "pygments_lexer": "ipython3",
   "version": "3.9.16"
  }
 },
 "nbformat": 4,
 "nbformat_minor": 5
}
